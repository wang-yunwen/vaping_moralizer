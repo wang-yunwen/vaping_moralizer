{
 "cells": [
  {
   "cell_type": "code",
   "execution_count": 1,
   "id": "2ee17b9f",
   "metadata": {},
   "outputs": [],
   "source": [
    "from moralizer import *"
   ]
  },
  {
   "cell_type": "code",
   "execution_count": 4,
   "id": "1dade4ec",
   "metadata": {},
   "outputs": [],
   "source": [
    "sample_text = 'An electronic cigarette is an electronic device that simulates tobacco smoking. It consists of an atomizer, a power source such as a battery, and a container such as a cartridge or tank. Instead of smoke, the user inhales vapor.As such, using an e-cigarette is often called \"vaping\". The atomizer is a heating element that vaporizes a liquid solution called e-liquid, which quickly cools into an aerosol of tiny droplets, vapor and air. E-cigarettes are activated by taking a puff or pressing a button.Some look like traditional cigarettes, and most versions are reusable. The vapor mainly comprises propylene glycol and/or glycerin, usually with nicotine and flavoring. Its exact composition varies, and depends on several things including user behavior.'"
   ]
  },
  {
   "cell_type": "code",
   "execution_count": 6,
   "id": "99d339e4",
   "metadata": {},
   "outputs": [
    {
     "data": {
      "text/plain": [
       "{'care': {'vice': {}, 'virtue': {'like': 1}},\n",
       " 'fairness': {'vice': {}, 'virtue': {}},\n",
       " 'loyalty': {'vice': {}, 'virtue': {}},\n",
       " 'authority': {'vice': {}, 'virtue': {'traditional': 1, 'power': 1}},\n",
       " 'sanctity': {'vice': {'nicotine': 1}, 'virtue': {}}}"
      ]
     },
     "execution_count": 6,
     "metadata": {},
     "output_type": "execute_result"
    }
   ],
   "source": [
    "'''\n",
    "dict_mode = 0: original dictionary\n",
    "dict_mode = 1: new original dictionary\n",
    "dict_mode = 2: combined dictionary\n",
    "\n",
    "'''\n",
    "results = moralize(input_text=sample_text,dict_mode=0)\n",
    "results"
   ]
  },
  {
   "cell_type": "code",
   "execution_count": 7,
   "id": "81f5d862",
   "metadata": {},
   "outputs": [
    {
     "data": {
      "text/plain": [
       "{'care': {'vice': {}, 'virtue': {'like': 1}},\n",
       " 'fairness': {'vice': {}, 'virtue': {}},\n",
       " 'loyalty': {'vice': {}, 'virtue': {}},\n",
       " 'authority': {'vice': {}, 'virtue': {'power': 1}},\n",
       " 'sanctity': {'vice': {'nicotine': 1}, 'virtue': {}}}"
      ]
     },
     "execution_count": 7,
     "metadata": {},
     "output_type": "execute_result"
    }
   ],
   "source": [
    "results = moralize(sample_text,dict_mode=1)\n",
    "results"
   ]
  },
  {
   "cell_type": "code",
   "execution_count": 8,
   "id": "22cc5e55",
   "metadata": {},
   "outputs": [
    {
     "data": {
      "text/plain": [
       "{'care': {'vice': {}, 'virtue': {'like': 1}},\n",
       " 'fairness': {'vice': {}, 'virtue': {}},\n",
       " 'loyalty': {'vice': {}, 'virtue': {}},\n",
       " 'authority': {'vice': {}, 'virtue': {'traditional': 1, 'power': 1}},\n",
       " 'sanctity': {'vice': {'nicotine': 1}, 'virtue': {}}}"
      ]
     },
     "execution_count": 8,
     "metadata": {},
     "output_type": "execute_result"
    }
   ],
   "source": [
    "results = moralize(sample_text,dict_mode=2)\n",
    "results"
   ]
  },
  {
   "cell_type": "code",
   "execution_count": null,
   "id": "920b86e8",
   "metadata": {},
   "outputs": [],
   "source": []
  }
 ],
 "metadata": {
  "kernelspec": {
   "display_name": "Python 3 (ipykernel)",
   "language": "python",
   "name": "python3"
  },
  "language_info": {
   "codemirror_mode": {
    "name": "ipython",
    "version": 3
   },
   "file_extension": ".py",
   "mimetype": "text/x-python",
   "name": "python",
   "nbconvert_exporter": "python",
   "pygments_lexer": "ipython3",
   "version": "3.10.8"
  }
 },
 "nbformat": 4,
 "nbformat_minor": 5
}
